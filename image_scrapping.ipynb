{
 "cells": [
  {
   "cell_type": "code",
   "execution_count": 1,
   "id": "02c5f037",
   "metadata": {},
   "outputs": [],
   "source": [
    "from bs4 import BeautifulSoup\n",
    "import requests\n",
    "import urllib.request"
   ]
  },
  {
   "cell_type": "code",
   "execution_count": 2,
   "id": "7937e424",
   "metadata": {},
   "outputs": [],
   "source": [
    "headers = {'User-Agent' : 'Mozilla/5.0 (Windows NT 10.0; Win64; x64) AppleWebKit/537.36 (KHTML, like Gecko) Chrome/58.0.3029.110 Safari/537.3'}"
   ]
  },
  {
   "cell_type": "code",
   "execution_count": 3,
   "id": "b6930d8e",
   "metadata": {},
   "outputs": [],
   "source": [
    "source = requests.get('https://www.freeimages.com/search/dog', headers=headers).text"
   ]
  },
  {
   "cell_type": "code",
   "execution_count": 4,
   "id": "cc7d9349",
   "metadata": {},
   "outputs": [],
   "source": [
    "soup = BeautifulSoup(source, 'lxml')"
   ]
  },
  {
   "cell_type": "code",
   "execution_count": 5,
   "id": "4e3bde04",
   "metadata": {},
   "outputs": [],
   "source": [
    "images = []"
   ]
  },
  {
   "cell_type": "code",
   "execution_count": 6,
   "id": "f585931b",
   "metadata": {},
   "outputs": [],
   "source": [
    "img_link = soup.select('img[src^=\"https://images.freeimages.com/images\"]')"
   ]
  },
  {
   "cell_type": "code",
   "execution_count": 7,
   "id": "8aba76ed",
   "metadata": {},
   "outputs": [],
   "source": [
    "for i in range(len(img_link)):\n",
    "    images.append(img_link[i]['src'])"
   ]
  },
  {
   "cell_type": "code",
   "execution_count": 8,
   "id": "b7ef0754",
   "metadata": {},
   "outputs": [],
   "source": [
    "for i in range(len(images)):\n",
    "    name = \"C:/Users/moham/Downloads/studyind/scrap_img/\"+str(i)+\".jpg\"\n",
    "    urllib.request.urlretrieve(images[i], name)"
   ]
  },
  {
   "cell_type": "code",
   "execution_count": null,
   "id": "95e965a5",
   "metadata": {},
   "outputs": [],
   "source": []
  }
 ],
 "metadata": {
  "kernelspec": {
   "display_name": "Python 3 (ipykernel)",
   "language": "python",
   "name": "python3"
  },
  "language_info": {
   "codemirror_mode": {
    "name": "ipython",
    "version": 3
   },
   "file_extension": ".py",
   "mimetype": "text/x-python",
   "name": "python",
   "nbconvert_exporter": "python",
   "pygments_lexer": "ipython3",
   "version": "3.10.11"
  }
 },
 "nbformat": 4,
 "nbformat_minor": 5
}
